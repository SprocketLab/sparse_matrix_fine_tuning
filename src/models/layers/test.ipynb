{
 "cells": [
  {
   "cell_type": "code",
   "execution_count": null,
   "metadata": {},
   "outputs": [],
   "source": [
    "import torch\n",
    "import torch.nn.functional as F\n",
    "def hook_fn(module, grad_input, grad_output):\n",
    "    print(f\"{module} has dW {grad_input[1]} and scaler value {module.scaler}\")\n",
    "    breakpoint()\n",
    "\n",
    "    \n",
    "class Scaler(nn.Module):\n",
    "    def __init__(self, out_features):\n",
    "        super().__init__()\n",
    "        self.scaler = nn.Parameter(torch.zeros(1))\n",
    "    def forward(self, x):\n",
    "        x = self.scaler * x\n",
    "        x = self.norm(x)\n",
    "        # layernorm to avoid vanishing gradient\n",
    "        return x"
   ]
  },
  {
   "cell_type": "code",
   "execution_count": null,
   "metadata": {},
   "outputs": [],
   "source": [
    "x = torch.random.randn(10, 10)"
   ]
  }
 ],
 "metadata": {
  "language_info": {
   "name": "python"
  }
 },
 "nbformat": 4,
 "nbformat_minor": 2
}
