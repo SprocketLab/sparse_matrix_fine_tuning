{
 "cells": [
  {
   "cell_type": "code",
   "execution_count": 1,
   "metadata": {},
   "outputs": [],
   "source": [
    "# choose a key to update for all the configs\n",
    "import json\n",
    "import os \n",
    "configs = os.listdir('.')\n",
    "# replace with pairs you want\n",
    "\n",
    "key = 'resume_from_checkpoint'\n",
    "value = False\n",
    "for config in configs:\n",
    "    config = json.load(open(config, 'r'))\n",
    "    if key in config:\n",
    "        config[key] = value\n",
    "        json.dump(config, open(config, 'w'))\n",
    "        "
   ]
  }
 ],
 "metadata": {
  "kernelspec": {
   "display_name": "butterfly",
   "language": "python",
   "name": "python3"
  },
  "language_info": {
   "codemirror_mode": {
    "name": "ipython",
    "version": 3
   },
   "file_extension": ".py",
   "mimetype": "text/x-python",
   "name": "python",
   "nbconvert_exporter": "python",
   "pygments_lexer": "ipython3",
   "version": "3.8.18"
  }
 },
 "nbformat": 4,
 "nbformat_minor": 2
}
