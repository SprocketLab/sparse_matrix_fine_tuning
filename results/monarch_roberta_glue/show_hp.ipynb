{
 "cells": [
  {
   "cell_type": "markdown",
   "metadata": {},
   "source": [
    "# Notebook to visualize best hyperparameter patterns from ASHA HP optimization"
   ]
  },
  {
   "cell_type": "code",
   "execution_count": 1,
   "metadata": {},
   "outputs": [],
   "source": [
    "import json\n",
    "import glob\n",
    "import os\n",
    "import shutil"
   ]
  },
  {
   "cell_type": "code",
   "execution_count": 9,
   "metadata": {},
   "outputs": [],
   "source": [
    "def replace_with_link(path: str):\n",
    "    base_path = \"/data/wenxuan\"\n",
    "    # replace the first two levels\n",
    "    new_path = path.replace(\"/\".join(path.split(\"/\")[0:2]), base_path)\n",
    "    # check if they link to the same file \n",
    "    if os.path.exists(new_path) and os.path.samefile(path, new_path):\n",
    "        print(f\"{path} and {new_path} are the same file, skipping replacement\")\n",
    "        return\n",
    "    \n",
    "    # move to new disk to clear space\n",
    "    new_dir = os.path.dirname(new_path)\n",
    "    os.makedirs(new_dir, exist_ok=True)\n",
    "    shutil.move(path, new_path)\n",
    "    os.symlink(new_path, path)"
   ]
  },
  {
   "cell_type": "code",
   "execution_count": 12,
   "metadata": {},
   "outputs": [
    {
     "name": "stdout",
     "output_type": "stream",
     "text": [
      "/nobackup/wenxuan/sparse_matrix_fine_tuning/results/monarch_roberta_glue/cola/block size 16/pytorch_model.bin and /data/wenxuan/wenxuan/sparse_matrix_fine_tuning/results/monarch_roberta_glue/cola/block size 16/pytorch_model.bin are the same file, skipping replacement\n",
      "/nobackup/wenxuan/sparse_matrix_fine_tuning/results/monarch_roberta_glue/cola/block size 16/checkpoint-3600/pytorch_model.bin and /data/wenxuan/wenxuan/sparse_matrix_fine_tuning/results/monarch_roberta_glue/cola/block size 16/checkpoint-3600/pytorch_model.bin are the same file, skipping replacement\n",
      "/nobackup/wenxuan/sparse_matrix_fine_tuning/results/monarch_roberta_glue/cola/block size 8/pytorch_model.bin and /data/wenxuan/wenxuan/sparse_matrix_fine_tuning/results/monarch_roberta_glue/cola/block size 8/pytorch_model.bin are the same file, skipping replacement\n",
      "/nobackup/wenxuan/sparse_matrix_fine_tuning/results/monarch_roberta_glue/cola/block size 8/checkpoint-4800/pytorch_model.bin and /data/wenxuan/wenxuan/sparse_matrix_fine_tuning/results/monarch_roberta_glue/cola/block size 8/checkpoint-4800/pytorch_model.bin are the same file, skipping replacement\n"
     ]
    },
    {
     "name": "stdout",
     "output_type": "stream",
     "text": [
      "/nobackup/wenxuan/sparse_matrix_fine_tuning/results/monarch_roberta_glue/stsb/block size 16/pytorch_model.bin and /data/wenxuan/wenxuan/sparse_matrix_fine_tuning/results/monarch_roberta_glue/stsb/block size 16/pytorch_model.bin are the same file, skipping replacement\n"
     ]
    }
   ],
   "source": [
    "# find pytorch.bin files\n",
    "for ckpt in glob.glob(\"/nobackup/wenxuan/sparse_matrix_fine_tuning/results/**/pytorch_model.bin\", recursive=True):\n",
    "    replace_with_link(ckpt)\n",
    "    "
   ]
  },
  {
   "cell_type": "code",
   "execution_count": 5,
   "metadata": {},
   "outputs": [],
   "source": [
    "monarch_ranks = [4, 8, 16, 32, 64]\n",
    "monarch_rank_params = [0.21, 0.35, 0.63, 1.20, 2.32]\n",
    "monarch_rank_res = [68.47, 68.06, 69.3, 70.78, 69.76]\n",
    "\n",
    "lora_ranks = [4, 8, 16]\n",
    "lora_params = [1.38, 1.75, 2.5]\n",
    "lora_res = [0.6799667905057818, 0.683, 0.6799667905057818]\n",
    "\n",
    "monarch_blkszs = [1, 2, 4, 8, 16, 64]\n",
    "monarch_blksz_params = [0.21, 0.35, 0.63, 1.20, 2.32, 9.07]\n",
    "monarch_blksz_res = [64.87, 66.87, 65.38, 66.98, 68.55, 69.45]"
   ]
  },
  {
   "cell_type": "code",
   "execution_count": null,
   "metadata": {},
   "outputs": [],
   "source": [
    "# plot rank vs lora, and then blksz vs lora as two lines connecting dots\n",
    "import matplotlib.pyplot as plt\n",
    "\n",
    "plt.title(\"Monarch vs LoRA\")\n",
    "plt.xlabel(\"Param count\")\n",
    "plt.ylabel(\"CoLA Eval Correlation\")\n",
    "\n",
    "plt.plot(monarch_rank_params, monarch_rank_res, label=\"Monarch\")\n",
    "# replace xticks with ranks\n",
    "monarch_ranks = [f\"rank {r}\" for r in monarch_ranks]\n",
    "plt.xticks(monarch_rank_params, monarch_ranks)\n",
    "\n",
    "plt.plot(lora_params, lora_res, label=\"LoRA\")\n",
    "lora_ranks = [f\"rank {r}\" for r in lora_ranks]\n",
    "plt.xticks(lora_params, lora_ranks)\n",
    "\n",
    "plt.legend()\n",
    "plt.show()"
   ]
  }
 ],
 "metadata": {
  "kernelspec": {
   "display_name": "ldm",
   "language": "python",
   "name": "python3"
  },
  "language_info": {
   "codemirror_mode": {
    "name": "ipython",
    "version": 3
   },
   "file_extension": ".py",
   "mimetype": "text/x-python",
   "name": "python",
   "nbconvert_exporter": "python",
   "pygments_lexer": "ipython3",
   "version": "3.8.10"
  }
 },
 "nbformat": 4,
 "nbformat_minor": 2
}
