{
 "cells": [
  {
   "cell_type": "markdown",
   "metadata": {},
   "source": [
    "# Notebook to visualize **best hyperparameter** from ASHA HPO"
   ]
  },
  {
   "cell_type": "markdown",
   "metadata": {},
   "source": [
    "## Move (and symlink) checkpoints to another disk to free space"
   ]
  },
  {
   "cell_type": "code",
   "execution_count": 5,
   "metadata": {},
   "outputs": [],
   "source": [
    "import glob\n",
    "from train_utils import replace_with_symlink\n",
    "# find pytorch.bin files\n",
    "target_disk = \"/data\"\n",
    "for ckpt in glob.glob(\"/nobackup/wenxuan/sparse_matrix_fine_tuning/results/**/pytorch_model.bin\", recursive=True):\n",
    "    replace_with_symlink(ckpt, target_disk)"
   ]
  },
  {
   "cell_type": "markdown",
   "metadata": {},
   "source": [
    "## Plot trade-off curves against LoRA"
   ]
  },
  {
   "cell_type": "code",
   "execution_count": 5,
   "metadata": {},
   "outputs": [],
   "source": [
    "monarch_ranks = [4, 8, 16, 32, 64]\n",
    "monarch_rank_params = [0.21, 0.35, 0.63, 1.20, 2.32]\n",
    "monarch_rank_res = [68.47, 68.06, 69.3, 70.78, 69.76]\n",
    "\n",
    "lora_ranks = [4, 8, 16]\n",
    "lora_params = [1.38, 1.75, 2.5]\n",
    "lora_res = [0.6799667905057818, 0.683, 0.6799667905057818]\n",
    "\n",
    "monarch_blkszs = [1, 2, 4, 8, 16, 64]\n",
    "monarch_blksz_params = [0.21, 0.35, 0.63, 1.20, 2.32, 9.07]\n",
    "monarch_blksz_res = [64.87, 66.87, 65.38, 66.98, 68.55, 69.45]"
   ]
  },
  {
   "cell_type": "code",
   "execution_count": null,
   "metadata": {},
   "outputs": [],
   "source": [
    "# plot rank vs lora, and then blksz vs lora as two lines connecting dots\n",
    "import matplotlib.pyplot as plt\n",
    "\n",
    "plt.title(\"Monarch vs LoRA\")\n",
    "plt.xlabel(\"Param count\")\n",
    "plt.ylabel(\"CoLA Eval Correlation\")\n",
    "\n",
    "plt.plot(monarch_rank_params, monarch_rank_res, label=\"Monarch, block size=256\")\n",
    "# replace xticks with ranks\n",
    "monarch_ranks = [f\"rank {r}\" for r in monarch_ranks]\n",
    "plt.xticks(monarch_rank_params, monarch_ranks)\n",
    "\n",
    "plt.plot(lora_params, lora_res, label=\"LoRA\")\n",
    "lora_ranks = [f\"rank {r}\" for r in lora_ranks]\n",
    "plt.xticks(lora_params, lora_ranks)\n",
    "\n",
    "plt.legend()\n",
    "plt.show()"
   ]
  },
  {
   "cell_type": "markdown",
   "metadata": {},
   "source": [
    "## Plot Hyperparams found in HPO"
   ]
  },
  {
   "cell_type": "code",
   "execution_count": null,
   "metadata": {},
   "outputs": [],
   "source": [
    "import glob\n",
    "import json\n",
    "tune_groups = [\"dense rank 32\", \"dense rank 16\"]\n",
    "hp_groups = {}\n",
    "results_path = \"/results\"\n",
    "# find all folders with the tune_group name\n",
    "for tune_group in tune_groups:\n",
    "    jsons = glob.glob(f\"{results_path}/**/{tune_group}/*.json\", recursive=True)\n",
    "    jsons = [json.load(open(j, \"r\")) for j in jsons]\n",
    "    hp_groups[tune_group] = jsons"
   ]
  },
  {
   "cell_type": "markdown",
   "metadata": {},
   "source": [
    "### plot by task or compare different groups"
   ]
  },
  {
   "cell_type": "code",
   "execution_count": null,
   "metadata": {},
   "outputs": [],
   "source": []
  }
 ],
 "metadata": {
  "kernelspec": {
   "display_name": "ldm",
   "language": "python",
   "name": "python3"
  },
  "language_info": {
   "codemirror_mode": {
    "name": "ipython",
    "version": 3
   },
   "file_extension": ".py",
   "mimetype": "text/x-python",
   "name": "python",
   "nbconvert_exporter": "python",
   "pygments_lexer": "ipython3",
   "version": "3.8.10"
  }
 },
 "nbformat": 4,
 "nbformat_minor": 2
}
